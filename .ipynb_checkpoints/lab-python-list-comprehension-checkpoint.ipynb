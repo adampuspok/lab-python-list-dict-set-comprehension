{
 "cells": [
  {
   "cell_type": "markdown",
   "id": "25d7736c-ba17-4aff-b6bb-66eba20fbf4e",
   "metadata": {},
   "source": [
    "# Lab | List, Dict and Set Comprehension"
   ]
  },
  {
   "cell_type": "markdown",
   "id": "7dd3cbde-675a-4b81-92c3-f728846dbe06",
   "metadata": {},
   "source": [
    "## Exercise: Managing Customer Orders Optimized with Comprehension"
   ]
  },
  {
   "cell_type": "markdown",
   "id": "5d500160-2fb7-4777-b5e4-09d45ebaf328",
   "metadata": {},
   "source": [
    "In the previous exercise, you developed a program to manage customer orders and inventory. Now, let's take it a step further and incorporate comprehension into your code.\n",
    "\n",
    "Follow the steps below to complete the exercise:\n",
    "\n",
    "1. Review your code from the previous exercise and identify areas where you can apply comprehension to simplify and streamline your code. \n",
    "\n",
    "    - *Hint: Apply it to initialize inventory, updating the inventory and printing the updated inventory.*\n",
    "    \n",
    "    - For example, in initializing the inventory, we could have:\n",
    "    \n",
    "        ```python\n",
    "        def initialize_inventory(products):\n",
    "            inventory = {product: int(input(f\"Enter the quantity of {product}s available: \")) for product in products}\n",
    "            return inventory\n",
    "\n",
    "        ```\n",
    "<br>\n",
    "    \n",
    "    \n",
    "2. Modify the function get_customer_orders so it prompts the user to enter the number of customer orders and gathers the product names using a loop and user input. Use comprehension.\n",
    "\n",
    "3. Add a new function to calculate the total price of the customer order. For each product in customer_orders, prompt the user to enter the price of that product. Use comprehension to calculate the total price. Note: assume that the user can only have 1 unit of each product.\n",
    "\n",
    "4. Modify the update_inventory function to remove the product from the inventory if its quantity becomes zero after fulfilling the customer orders. Use comprehension to filter out the products with a quantity of zero from the inventory.\n",
    "\n",
    "5. Print the total price of the customer order.\n",
    "\n",
    "Your code should produce output similar to the following:\n",
    "\n",
    "```python\n",
    "Enter the quantity of t-shirts available:  5\n",
    "Enter the quantity of mugs available:  4\n",
    "Enter the quantity of hats available:  3\n",
    "Enter the quantity of books available:  2\n",
    "Enter the quantity of keychains available:  1\n",
    "Enter the number of customer orders:  2\n",
    "Enter the name of a product that a customer wants to order:  hat\n",
    "Enter the name of a product that a customer wants to order:  keychain\n",
    "\n",
    "Order Statistics:\n",
    "Total Products Ordered: 2\n",
    "Percentage of Unique Products Ordered: 40.0\n",
    "\n",
    "Updated Inventory:\n",
    "t-shirt: 5\n",
    "mug: 4\n",
    "hat: 2\n",
    "book: 2\n",
    "Enter the price of keychain:  5\n",
    "Enter the price of hat:  10\n",
    "Total Price: 15.0\n",
    "\n",
    "```\n"
   ]
  },
  {
   "cell_type": "code",
   "execution_count": 69,
   "id": "ffdcba4d-1a8e-4a7d-a512-f68337a0d79e",
   "metadata": {},
   "outputs": [
    {
     "name": "stdin",
     "output_type": "stream",
     "text": [
      "Enter the quantity of t-shirts available:  4\n",
      "Enter the quantity of mugs available:  5\n",
      "Enter the quantity of hats available:  3\n",
      "Enter the quantity of books available:  2\n",
      "Enter the quantity of keychains available:  6\n",
      "How many products do you want to order?  2\n",
      "Enter product name #1:  mug\n",
      "Enter product name #2:  hat\n"
     ]
    },
    {
     "name": "stdout",
     "output_type": "stream",
     "text": [
      "\n",
      "Order Statistics:\n",
      "Total Products Ordered: 2\n",
      "Percentage of Products Ordered: 11%\n",
      "\n",
      "Updated inventory:\n",
      "t-shirt: 4\n",
      "mug: 4\n",
      "hat: 2\n",
      "book: 2\n",
      "keychain: 6\n"
     ]
    },
    {
     "name": "stdin",
     "output_type": "stream",
     "text": [
      "Enter the price of mug:...€ 12\n",
      "Enter the price of hat:...€ 25\n"
     ]
    },
    {
     "name": "stdout",
     "output_type": "stream",
     "text": [
      "Total Price: 37.0 €\n"
     ]
    }
   ],
   "source": [
    "#Inventory details\n",
    "products = ['t-shirt', 'mug', 'hat', 'book', 'keychain']\n",
    "\n",
    "#1: Define a function named initialize_inventory that takes products as a parameter. \n",
    "#Inside the function, implement the code for initializing the inventory dictionary using a loop and user input.\n",
    "\n",
    "\n",
    "def initialize_inventory(products):\n",
    "    inventory = {product: int(input(f\"Enter the quantity of {product}s available: \")) for product in products}\n",
    "    return inventory\n",
    "\n",
    "inventory = initialize_inventory(products)\n",
    "\n",
    "\n",
    "#2 Define get_customer_orders :\n",
    "\n",
    "def get_customer_orders():\n",
    "    num_orders = int(input(\"How many products do you want to order? \"))\n",
    "    customer_orders = {input(f\"Enter product name #{i+1}: \") for i in range(num_orders)}\n",
    "    return customer_orders\n",
    "\n",
    "customer_orders = get_customer_orders()\n",
    "\n",
    "\n",
    "#3 Define update_inventory:\n",
    "\n",
    "def update_inventory(customer_orders, inventory):\n",
    "    for product in customer_orders:\n",
    "        if product in inventory:\n",
    "            if inventory[product] > 0:\n",
    "                inventory[product] -= 1\n",
    "            elif product in inventory and inventory[product] <= 0:\n",
    "                print(f\"There is not enough {product} on stock to fulfill the order!\")\n",
    "\n",
    "    inventory = {product: quantity for product, quantity in inventory.items() if quantity > 0}\n",
    "    return inventory\n",
    "\n",
    "inventory = update_inventory(customer_orders, inventory)\n",
    "\n",
    "\n",
    "#4 Define calculate_order_statistics:\n",
    "\n",
    "def calculate_order_statistics(customer_orders, products):\n",
    "    total_ordered = len(customer_orders)\n",
    "    total_inventory = sum(inventory.values())\n",
    "    percentage_ordered = (total_ordered / total_inventory) * 100\n",
    "\n",
    "    return total_ordered, percentage_ordered\n",
    "\n",
    "total_ordered, percentage_ordered = calculate_order_statistics(customer_orders, products)\n",
    "\n",
    "\n",
    "#5 Define print_order_statistics:\n",
    "\n",
    "def print_order_statistics(order_statistics):\n",
    "    print()\n",
    "    print(\"Order Statistics:\")\n",
    "    print(f\"Total Products Ordered: {total_ordered}\")\n",
    "    print(f\"Percentage of Products Ordered: {round(percentage_ordered)}%\")\n",
    "    print()\n",
    "    return\n",
    "\n",
    "print_order_statistics(order_statistics)\n",
    "\n",
    "print(\"Updated inventory:\")\n",
    "for product, quantity in inventory.items():\n",
    "    print(f\"{product}: {quantity}\")\n",
    "\n",
    "\n",
    "#6 Add price:\n",
    "\n",
    "def calculate_total_price(customer_orders):\n",
    "    total_price = sum((float(input(f\"Enter the price of {product}:...€\")) for product in customer_orders))\n",
    "    return total_price\n",
    "\n",
    "total_price = calculate_total_price(customer_orders)\n",
    "print(f\"Total Price: {total_price} €\")\n",
    "\n",
    "\n"
   ]
  },
  {
   "cell_type": "code",
   "execution_count": null,
   "id": "85d1a982-0fde-4afe-83f9-24fc2f2598d5",
   "metadata": {},
   "outputs": [],
   "source": []
  }
 ],
 "metadata": {
  "kernelspec": {
   "display_name": "Python 3 (ipykernel)",
   "language": "python",
   "name": "python3"
  },
  "language_info": {
   "codemirror_mode": {
    "name": "ipython",
    "version": 3
   },
   "file_extension": ".py",
   "mimetype": "text/x-python",
   "name": "python",
   "nbconvert_exporter": "python",
   "pygments_lexer": "ipython3",
   "version": "3.12.7"
  }
 },
 "nbformat": 4,
 "nbformat_minor": 5
}
